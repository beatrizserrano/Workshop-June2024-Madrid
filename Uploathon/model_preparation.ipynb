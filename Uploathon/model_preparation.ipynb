{
 "cells": [
  {
   "cell_type": "code",
   "execution_count": null,
   "metadata": {},
   "outputs": [],
   "source": [
    "import hashlib\n",
    "import torch"
   ]
  },
  {
   "cell_type": "code",
   "execution_count": null,
   "metadata": {},
   "outputs": [],
   "source": [
    "from pathlib import Path\n",
    "from typing import List, Optional, Tuple, Union\n",
    "\n",
    "import numpy as np\n",
    "from bioimageio.spec.model.v0_5 import (\n",
    "    ArchitectureFromLibraryDescr,\n",
    "    ArchitectureFromFileDescr,\n",
    "    Author,\n",
    "    AxisBase,\n",
    "    AxisId,\n",
    "    BatchAxis,\n",
    "    ChannelAxis,\n",
    "    EnvironmentFileDescr,\n",
    "    FileDescr,\n",
    "    FixedZeroMeanUnitVarianceDescr,\n",
    "    FixedZeroMeanUnitVarianceKwargs,\n",
    "    Identifier,\n",
    "    InputTensorDescr,\n",
    "    ModelDescr,\n",
    "    OutputTensorDescr,\n",
    "    PytorchStateDictWeightsDescr,\n",
    "    SpaceInputAxis,\n",
    "    SpaceOutputAxis,\n",
    "    TensorId,\n",
    "    Version,\n",
    "    WeightsDescr,\n",
    ")"
   ]
  },
  {
   "cell_type": "markdown",
   "metadata": {},
   "source": [
    "Example:\n",
    "[https://github.com/bioimage-io/spec-bioimage-io/blob/main/example/load_model_and_create_your_own.ipynb](https://github.com/bioimage-io/spec-bioimage-io/blob/main/example/load_model_and_create_your_own.ipynb)"
   ]
  },
  {
   "cell_type": "code",
   "execution_count": null,
   "metadata": {},
   "outputs": [],
   "source": [
    "# README.md file\n",
    "doc_md = \"path/to/readme/file.md\""
   ]
  },
  {
   "cell_type": "code",
   "execution_count": null,
   "metadata": {},
   "outputs": [],
   "source": [
    "# model input\n",
    "input_path = \"path/to/input/sample.npy\"\n",
    "input_sample = np.load(input_path)\n",
    "# building axes\n",
    "in_axes = [BatchAxis()]  # batch is always there!\n",
    "# channel\n",
    "in_axes.append(\n",
    "    ChannelAxis(channel_names=[Identifier(\"channel\")])\n",
    ")\n",
    "# spatial dims\n",
    "in_axes.append(\n",
    "    SpaceInputAxis(id=AxisId(\"y\"), size=input_sample.shape[2])\n",
    ")\n",
    "in_axes.append(\n",
    "    SpaceInputAxis(id=AxisId(\"x\"), size=input_sample.shape[3])\n",
    ")\n",
    "# input descriptor\n",
    "input_descr = InputTensorDescr(\n",
    "    id=TensorId(\"input\"),\n",
    "    axes=in_axes,\n",
    "    test_tensor=FileDescr(source=input_path),\n",
    "    preprocessing=[\n",
    "        FixedZeroMeanUnitVarianceDescr(\n",
    "            kwargs=FixedZeroMeanUnitVarianceKwargs(mean=mu, std=std)\n",
    "        )\n",
    "    ],\n",
    ")\n"
   ]
  },
  {
   "cell_type": "code",
   "execution_count": null,
   "metadata": {},
   "outputs": [],
   "source": [
    "# model output\n",
    "output_path = \"path/to/input/sample.npy\"\n",
    "output_sample = np.load(output_path)\n",
    "# building axes\n",
    "out_axes = [BatchAxis()]  # batch is always there!\n",
    "# channel\n",
    "out_axes.append(\n",
    "    ChannelAxis(channel_names=[Identifier(\"channel\")])\n",
    ")\n",
    "# spatial dims\n",
    "out_axes.append(\n",
    "    SpaceOutputAxis(id=AxisId(\"y\"), size=output_sample.shape[2])\n",
    ")\n",
    "out_axes.append(\n",
    "    SpaceOutputAxis(id=AxisId(\"x\"), size=output_sample.shape[3])\n",
    ")\n",
    "# input descriptor\n",
    "output_descr = OutputTensorDescr(\n",
    "    id=TensorId(\"prediction\"),\n",
    "    axes=out_axes,\n",
    "    test_tensor=FileDescr(source=output_path),\n",
    "    preprocessing=[\n",
    "        FixedZeroMeanUnitVarianceDescr(\n",
    "            kwargs=FixedZeroMeanUnitVarianceKwargs(mean=inv_mu, std=inv_std)\n",
    "        )\n",
    "    ],\n",
    ")\n"
   ]
  },
  {
   "cell_type": "markdown",
   "metadata": {},
   "source": [
    "[https://bioimage-io.github.io/spec-bioimage-io/bioimageio/spec/model/v0_5.html#ArchitectureDescr](https://bioimage-io.github.io/spec-bioimage-io/bioimageio/spec/model/v0_5.html#ArchitectureDescr)"
   ]
  },
  {
   "cell_type": "code",
   "execution_count": null,
   "metadata": {},
   "outputs": [],
   "source": [
    "# model arch & weights\n",
    "model_src_file = \"model.py\"\n",
    "# params to instantiate the model (pass to __init__)\n",
    "model_kwargs = {}\n",
    "model_sha256 = hashlib.sha256(model_src_file)\n",
    "\n",
    "arch_descr = ArchitectureFromFileDescr(\n",
    "    source=model_src_file,\n",
    "    sha256=model_sha256,\n",
    "    callable=\"ModelClassName\",\n",
    "    kwargs=model_kwargs\n",
    ")\n",
    "# architecture_descr = ArchitectureFromLibraryDescr(\n",
    "#     import_from=\"careamics.models\",\n",
    "#     callable=f\"{config.algorithm_config.model.architecture}\",\n",
    "#     kwargs=config.algorithm_config.model.model_dump(),\n",
    "# )\n",
    "\n",
    "pytorch_version = Version(torch.__version__)\n",
    "weights_path = \"path/to/weights.pth\"\n",
    "env_path = \"path/to/env.yml\"\n",
    "\n",
    "weights_descr = WeightsDescr(\n",
    "    pytorch_state_dict=PytorchStateDictWeightsDescr(\n",
    "        source=weights_path,\n",
    "        architecture=arch_descr,\n",
    "        pytorch_version=Version(pytorch_version),\n",
    "        dependencies=EnvironmentFileDescr(source=env_path),\n",
    "    ),\n",
    ")"
   ]
  },
  {
   "cell_type": "code",
   "execution_count": null,
   "metadata": {},
   "outputs": [],
   "source": [
    "# authors\n",
    "au1 = Author(\n",
    "    name=\"Ashesh\",\n",
    "    email=\"\",\n",
    "    affiliation=\"\",\n",
    "    orcid=\"\",\n",
    "    github_user=\"\"\n",
    ")\n",
    "au2 = Author(\n",
    "    name=\"John Doe\",\n",
    "    email=\"\",\n",
    "    affiliation=\"\",\n",
    "    orcid=\"\",\n",
    "    github_user=\"\"\n",
    ")\n",
    "\n",
    "authors = [au1, au2]"
   ]
  },
  {
   "cell_type": "code",
   "execution_count": null,
   "metadata": {},
   "outputs": [],
   "source": [
    "# model\n",
    "model_descr = ModelDescr(\n",
    "    name=\"name\",\n",
    "    authors=authors,\n",
    "    description=\"description\",\n",
    "    documentation=doc_md,\n",
    "    inputs=[input_descr],\n",
    "    outputs=[output_descr],\n",
    "    tags=[\"tag1\", \"tag2\"],\n",
    "    # covers=[\"cover1.png\"],\n",
    "    links=[\n",
    "        \"https://github.com/CAREamics/careamics\",\n",
    "        \"https://careamics.github.io/latest/\",\n",
    "    ],\n",
    "    license=\"BSD-3-Clause\",\n",
    "    version=\"0.1.0\",\n",
    "    weights=weights_descr,\n",
    "    # attachments=[FileDescr(source=\"\")],\n",
    "    cite=\"\",\n",
    "    config={  # conversion from float32 to float64 creates small differences...\n",
    "        \"bioimageio\": {\n",
    "            \"test_kwargs\": {\n",
    "                \"pytorch_state_dict\": {\n",
    "                    \"decimals\": 2,  # ...so we relax the constraints on the decimals\n",
    "                }\n",
    "            }\n",
    "        }\n",
    "    },\n",
    ")"
   ]
  },
  {
   "cell_type": "code",
   "execution_count": null,
   "metadata": {},
   "outputs": [],
   "source": [
    "model_descr.validation_summary.display()"
   ]
  },
  {
   "cell_type": "code",
   "execution_count": null,
   "metadata": {},
   "outputs": [],
   "source": [
    "from bioimageio.core import test_model\n",
    "\n",
    "summary = test_model(model_descr)\n",
    "summary.display()"
   ]
  },
  {
   "cell_type": "code",
   "execution_count": null,
   "metadata": {},
   "outputs": [],
   "source": [
    "from bioimageio.spec import save_bioimageio_package\n",
    "\n",
    "save_bioimageio_package(model_descr, output_path=Path(\"my_model.zip\"))"
   ]
  },
  {
   "cell_type": "code",
   "execution_count": null,
   "metadata": {},
   "outputs": [],
   "source": []
  }
 ],
 "metadata": {
  "kernelspec": {
   "display_name": "ai4life",
   "language": "python",
   "name": "python3"
  },
  "language_info": {
   "name": "python",
   "version": "3.9.19"
  }
 },
 "nbformat": 4,
 "nbformat_minor": 2
}
